{
 "cells": [
  {
   "cell_type": "code",
   "execution_count": null,
   "metadata": {},
   "outputs": [],
   "source": [
    "import pandas as pd"
   ]
  },
  {
   "cell_type": "code",
   "execution_count": null,
   "metadata": {},
   "outputs": [],
   "source": [
    "df = pd.read_csv(\"employees.csv\", parse_dates = [\"Start Date\", \"Last Login Time\"])\n",
    "df[\"Senior Management\"] = df[\"Senior Management\"].astype(\"bool\")\n",
    "df[\"Gender\"] = df[\"Gender\"].astype(\"category\")\n",
    "df.head(3)"
   ]
  },
  {
   "cell_type": "markdown",
   "metadata": {},
   "source": [
    "## Filter A `DataFrame` Based On A Condition"
   ]
  },
  {
   "cell_type": "code",
   "execution_count": null,
   "metadata": {},
   "outputs": [],
   "source": [
    "df = pd.read_csv(\"employees.csv\", parse_dates = [\"Start Date\", \"Last Login Time\"])\n",
    "df[\"Senior Management\"] = df[\"Senior Management\"].astype(\"bool\")\n",
    "df[\"Gender\"] = df[\"Gender\"].astype(\"category\")\n",
    "df.head(3)"
   ]
  },
  {
   "cell_type": "markdown",
   "metadata": {},
   "source": [
    "## Filter with More than One Condition (AND)"
   ]
  },
  {
   "cell_type": "code",
   "execution_count": null,
   "metadata": {},
   "outputs": [],
   "source": [
    "df = pd.read_csv(\"employees.csv\", parse_dates = [\"Start Date\", \"Last Login Time\"])\n",
    "df[\"Senior Management\"] = df[\"Senior Management\"].astype(\"bool\")\n",
    "df[\"Gender\"] = df[\"Gender\"].astype(\"category\")\n",
    "df.head(3)"
   ]
  },
  {
   "cell_type": "code",
   "execution_count": null,
   "metadata": {},
   "outputs": [],
   "source": [
    "mask1 = df[\"Gender\"] == \"Male\"\n",
    "mask2 = df[\"Team\"] == \"Marketing\"\n",
    "\n",
    "df[mask1 & mask2]"
   ]
  },
  {
   "cell_type": "markdown",
   "metadata": {},
   "source": [
    "## Filter with More than One Condition (OR)"
   ]
  },
  {
   "cell_type": "code",
   "execution_count": null,
   "metadata": {},
   "outputs": [],
   "source": [
    "df = pd.read_csv(\"employees.csv\", parse_dates = [\"Start Date\", \"Last Login Time\"])\n",
    "df[\"Senior Management\"] = df[\"Senior Management\"].astype(\"bool\")\n",
    "df[\"Gender\"] = df[\"Gender\"].astype(\"category\")\n",
    "df.head(3)"
   ]
  },
  {
   "cell_type": "code",
   "execution_count": null,
   "metadata": {},
   "outputs": [],
   "source": [
    "mask1 = df[\"Senior Management\"]\n",
    "mask2 = df[\"Start Date\"] < \"1990-01-01\"\n",
    "\n",
    "df[mask1 | mask2]"
   ]
  },
  {
   "cell_type": "code",
   "execution_count": null,
   "metadata": {},
   "outputs": [],
   "source": [
    "mask1 = df[\"First Name\"] == \"Robert\"\n",
    "mask2 = df[\"Team\"] == \"Client Services\"\n",
    "mask3 = df[\"Start Date\"] > \"2016-06-01\"\n",
    "\n",
    "df[(mask1 & mask2) | mask3]"
   ]
  },
  {
   "cell_type": "markdown",
   "metadata": {},
   "source": [
    "## The `.isin()` Method"
   ]
  },
  {
   "cell_type": "code",
   "execution_count": null,
   "metadata": {},
   "outputs": [],
   "source": [
    "df = pd.read_csv(\"employees.csv\", parse_dates = [\"Start Date\", \"Last Login Time\"])\n",
    "df[\"Senior Management\"] = df[\"Senior Management\"].astype(\"bool\")\n",
    "df[\"Gender\"] = df[\"Gender\"].astype(\"category\")\n",
    "df.head(3)"
   ]
  },
  {
   "cell_type": "code",
   "execution_count": null,
   "metadata": {},
   "outputs": [],
   "source": [
    "mask1 = df[\"Team\"] == \"Legal\"\n",
    "mask2 = df[\"Team\"] == \"Sales\"\n",
    "mask3 = df[\"Team\"] == \"Product\"\n",
    "\n",
    "df[mask1 | mask2 | mask3]"
   ]
  },
  {
   "cell_type": "markdown",
   "metadata": {},
   "source": [
    "## The `.isnull()` and `.notnull()` Methods"
   ]
  },
  {
   "cell_type": "code",
   "execution_count": null,
   "metadata": {},
   "outputs": [],
   "source": [
    "df = pd.read_csv(\"employees.csv\", parse_dates = [\"Start Date\", \"Last Login Time\"])\n",
    "df[\"Senior Management\"] = df[\"Senior Management\"].astype(\"bool\")\n",
    "df[\"Gender\"] = df[\"Gender\"].astype(\"category\")\n",
    "df.head(3)"
   ]
  },
  {
   "cell_type": "code",
   "execution_count": null,
   "metadata": {},
   "outputs": [],
   "source": [
    "mask = df[\"Team\"].isnull()\n",
    "\n",
    "df[mask]"
   ]
  },
  {
   "cell_type": "code",
   "execution_count": null,
   "metadata": {},
   "outputs": [],
   "source": [
    "condition = df[\"Gender\"].notnull()\n",
    "\n",
    "df[condition]"
   ]
  },
  {
   "cell_type": "markdown",
   "metadata": {},
   "source": [
    "## The `.between()` Method"
   ]
  },
  {
   "cell_type": "code",
   "execution_count": null,
   "metadata": {},
   "outputs": [],
   "source": [
    "df = pd.read_csv(\"employees.csv\", parse_dates = [\"Start Date\", \"Last Login Time\"])\n",
    "df[\"Senior Management\"] = df[\"Senior Management\"].astype(\"bool\")\n",
    "df[\"Gender\"] = df[\"Gender\"].astype(\"category\")\n",
    "df.head(3)"
   ]
  },
  {
   "cell_type": "code",
   "execution_count": null,
   "metadata": {},
   "outputs": [],
   "source": [
    "df[df[\"Salary\"].between(60000, 70000)]"
   ]
  },
  {
   "cell_type": "code",
   "execution_count": null,
   "metadata": {},
   "outputs": [],
   "source": [
    "df[df[\"Bonus %\"].between(2.0, 5.0)]"
   ]
  },
  {
   "cell_type": "code",
   "execution_count": null,
   "metadata": {},
   "outputs": [],
   "source": [
    "df[df[\"Start Date\"].between(\"1991-01-01\", \"1992-01-01\")]"
   ]
  },
  {
   "cell_type": "code",
   "execution_count": null,
   "metadata": {},
   "outputs": [],
   "source": [
    "df[df[\"Last Login Time\"].between(\"08:30AM\", \"12:00PM\")]"
   ]
  },
  {
   "cell_type": "markdown",
   "metadata": {},
   "source": [
    "## The `.duplicated()` Method"
   ]
  },
  {
   "cell_type": "code",
   "execution_count": null,
   "metadata": {},
   "outputs": [],
   "source": [
    "df = pd.read_csv(\"employees.csv\", parse_dates = [\"Start Date\", \"Last Login Time\"])\n",
    "df[\"Senior Management\"] = df[\"Senior Management\"].astype(\"bool\")\n",
    "df[\"Gender\"] = df[\"Gender\"].astype(\"category\")\n",
    "df.sort_values(\"First Name\", inplace = True)\n",
    "df.head(3)"
   ]
  },
  {
   "cell_type": "code",
   "execution_count": null,
   "metadata": {},
   "outputs": [],
   "source": [
    "mask = ~df[\"First Name\"].duplicated(keep = False)\n",
    "df[mask]"
   ]
  },
  {
   "cell_type": "markdown",
   "metadata": {},
   "source": [
    "## The `.drop_duplicates()` Method"
   ]
  },
  {
   "cell_type": "code",
   "execution_count": null,
   "metadata": {},
   "outputs": [],
   "source": [
    "df = pd.read_csv(\"employees.csv\", parse_dates = [\"Start Date\", \"Last Login Time\"])\n",
    "df[\"Senior Management\"] = df[\"Senior Management\"].astype(\"bool\")\n",
    "df[\"Gender\"] = df[\"Gender\"].astype(\"category\")\n",
    "df.sort_values(\"First Name\", inplace = True)\n",
    "df.head(3)"
   ]
  },
  {
   "cell_type": "code",
   "execution_count": null,
   "metadata": {},
   "outputs": [],
   "source": [
    "len(df)"
   ]
  },
  {
   "cell_type": "code",
   "execution_count": null,
   "metadata": {},
   "outputs": [],
   "source": [
    "len(df.drop_duplicates())"
   ]
  },
  {
   "cell_type": "code",
   "execution_count": null,
   "metadata": {},
   "outputs": [],
   "source": [
    "df.drop_duplicates(subset = [\"First Name\"], keep = False)"
   ]
  },
  {
   "cell_type": "code",
   "execution_count": null,
   "metadata": {},
   "outputs": [],
   "source": [
    "df.drop_duplicates(subset = [\"First Name\", \"Team\"], inplace = True)"
   ]
  },
  {
   "cell_type": "code",
   "execution_count": null,
   "metadata": {},
   "outputs": [],
   "source": [
    "df.head(2)"
   ]
  },
  {
   "cell_type": "code",
   "execution_count": null,
   "metadata": {},
   "outputs": [],
   "source": [
    "len(df)"
   ]
  },
  {
   "cell_type": "markdown",
   "metadata": {},
   "source": [
    "## The `.unique()` and `.nunique()` Methods"
   ]
  },
  {
   "cell_type": "code",
   "execution_count": null,
   "metadata": {},
   "outputs": [],
   "source": [
    "df = pd.read_csv(\"employees.csv\", parse_dates = [\"Start Date\", \"Last Login Time\"])\n",
    "df[\"Senior Management\"] = df[\"Senior Management\"].astype(\"bool\")\n",
    "df[\"Gender\"] = df[\"Gender\"].astype(\"category\")\n",
    "df.head(3)"
   ]
  },
  {
   "cell_type": "code",
   "execution_count": null,
   "metadata": {},
   "outputs": [],
   "source": [
    "df[\"Gender\"].unique()\n",
    "\n",
    "df[\"Team\"].unique()"
   ]
  },
  {
   "cell_type": "code",
   "execution_count": null,
   "metadata": {},
   "outputs": [],
   "source": [
    "len(df[\"Team\"].unique())"
   ]
  },
  {
   "cell_type": "code",
   "execution_count": null,
   "metadata": {},
   "outputs": [],
   "source": [
    "df[\"Team\"].nunique(dropna = False)"
   ]
  }
 ],
 "metadata": {
  "anaconda-cloud": {},
  "kernelspec": {
   "display_name": "Python 3",
   "language": "python",
   "name": "python3"
  },
  "language_info": {
   "codemirror_mode": {
    "name": "ipython",
    "version": 3
   },
   "file_extension": ".py",
   "mimetype": "text/x-python",
   "name": "python",
   "nbconvert_exporter": "python",
   "pygments_lexer": "ipython3",
   "version": "3.8.3"
  }
 },
 "nbformat": 4,
 "nbformat_minor": 1
}
