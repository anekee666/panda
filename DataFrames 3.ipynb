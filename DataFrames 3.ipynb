{
 "cells": [
  {
   "cell_type": "code",
   "execution_count": null,
   "metadata": {},
   "outputs": [],
   "source": [
    "import pandas as pd"
   ]
  },
  {
   "cell_type": "code",
   "execution_count": null,
   "metadata": {},
   "outputs": [],
   "source": [
    "bond = pd.read_csv(\"jamesbond.csv\")\n",
    "bond.head(3)"
   ]
  },
  {
   "cell_type": "markdown",
   "metadata": {},
   "source": [
    "## The `.set_index()` and `.reset_index()` Methods"
   ]
  },
  {
   "cell_type": "code",
   "execution_count": null,
   "metadata": {},
   "outputs": [],
   "source": [
    "bond = pd.read_csv(\"jamesbond.csv\")\n",
    "bond.head(3)"
   ]
  },
  {
   "cell_type": "code",
   "execution_count": null,
   "metadata": {},
   "outputs": [],
   "source": [
    "bond.set_index(\"Film\", inplace = True)\n",
    "bond.head(3)"
   ]
  },
  {
   "cell_type": "code",
   "execution_count": null,
   "metadata": {
    "scrolled": true
   },
   "outputs": [],
   "source": [
    "bond.reset_index(drop = False, inplace = True)\n",
    "bond.head(3)"
   ]
  },
  {
   "cell_type": "code",
   "execution_count": null,
   "metadata": {},
   "outputs": [],
   "source": [
    "bond.set_index(\"Film\", inplace = True)\n",
    "bond.head(3)"
   ]
  },
  {
   "cell_type": "code",
   "execution_count": null,
   "metadata": {},
   "outputs": [],
   "source": [
    "bond.reset_index(inplace = True)\n",
    "bond.set_index(\"Year\", inplace = True)\n",
    "bond.head(3)"
   ]
  },
  {
   "cell_type": "markdown",
   "metadata": {},
   "source": [
    "## Retrieve Rows by Index Label with `.loc[]`"
   ]
  },
  {
   "cell_type": "code",
   "execution_count": null,
   "metadata": {},
   "outputs": [],
   "source": [
    "bond = pd.read_csv(\"jamesbond.csv\", index_col = \"Film\")\n",
    "bond.sort_index(inplace = True)\n",
    "bond.head(3)"
   ]
  },
  {
   "cell_type": "code",
   "execution_count": null,
   "metadata": {},
   "outputs": [],
   "source": [
    "bond.loc[\"Goldfinger\"]\n",
    "bond.loc[\"GoldenEye\"]\n",
    "#bond.loc[\"Sacred Bond\"]\n",
    "bond.loc[\"Casino Royale\"]"
   ]
  },
  {
   "cell_type": "code",
   "execution_count": null,
   "metadata": {},
   "outputs": [],
   "source": [
    "bond.loc[\"Diamonds Are Forever\" : \"Moonraker\"]\n",
    "bond.loc[: \"On Her Majesty's Secret Service\"]"
   ]
  },
  {
   "cell_type": "code",
   "execution_count": null,
   "metadata": {},
   "outputs": [],
   "source": [
    "bond.loc[[\"Octopussy\", \"Moonraker\"]]"
   ]
  },
  {
   "cell_type": "code",
   "execution_count": null,
   "metadata": {},
   "outputs": [],
   "source": [
    "bond.loc[[\"For Your Eyes Only\", \"Live and Let Die\", \"Gold Bond\"]]"
   ]
  },
  {
   "cell_type": "code",
   "execution_count": null,
   "metadata": {},
   "outputs": [],
   "source": [
    "\"Gold Bond\" in bond.index"
   ]
  },
  {
   "cell_type": "markdown",
   "metadata": {},
   "source": [
    "## Retrieve Row(s) by Index Position with `iloc`"
   ]
  },
  {
   "cell_type": "code",
   "execution_count": null,
   "metadata": {},
   "outputs": [],
   "source": [
    "bond = pd.read_csv(\"jamesbond.csv\")\n",
    "bond.head(3)"
   ]
  },
  {
   "cell_type": "code",
   "execution_count": null,
   "metadata": {},
   "outputs": [],
   "source": [
    "bond.loc[15]\n",
    "bond.iloc[15]\n",
    "\n",
    "bond.iloc[[15, 20]]\n",
    "bond.iloc[:4]\n",
    "bond.iloc[4:8]\n",
    "bond.iloc[20:]"
   ]
  },
  {
   "cell_type": "code",
   "execution_count": null,
   "metadata": {},
   "outputs": [],
   "source": [
    "bond = pd.read_csv(\"jamesbond.csv\", index_col = \"Film\")\n",
    "bond.sort_index(inplace = True)\n",
    "bond.head(3)"
   ]
  },
  {
   "cell_type": "code",
   "execution_count": null,
   "metadata": {},
   "outputs": [],
   "source": [
    "bond.iloc[[5, 10, 15, 20]]"
   ]
  },
  {
   "cell_type": "markdown",
   "metadata": {},
   "source": [
    "## The Catch-All `.ix[]` Method"
   ]
  },
  {
   "cell_type": "code",
   "execution_count": null,
   "metadata": {},
   "outputs": [],
   "source": [
    "bond = pd.read_csv(\"jamesbond.csv\", index_col = \"Film\")\n",
    "bond.sort_index(inplace = True)\n",
    "bond.head(3)"
   ]
  },
  {
   "cell_type": "code",
   "execution_count": null,
   "metadata": {},
   "outputs": [],
   "source": [
    "bond.ix[\"GoldenEye\"]\n",
    "bond.ix[[\"Diamonds are Forever\", \"Moonraker\", \"Spectre\"]]\n",
    "bond.ix[\"A View to a Kill\" : \"The World Is Not Enough\"]\n",
    "# bond.ix[\"Sacred Bond\"]\n",
    "bond.ix[[\"Spectre\", \"Sacred Bond\"]]\n",
    "\n",
    "\"Spectre\" in bond.index\n",
    "\"Sacred Bond\" in bond.index"
   ]
  },
  {
   "cell_type": "code",
   "execution_count": null,
   "metadata": {},
   "outputs": [],
   "source": [
    "bond = pd.read_csv(\"jamesbond.csv\", index_col = \"Film\")\n",
    "bond.sort_index(inplace = True)\n",
    "bond.head(3)"
   ]
  },
  {
   "cell_type": "code",
   "execution_count": null,
   "metadata": {},
   "outputs": [],
   "source": [
    "bond.loc[\"Moonraker\", [\"Actor\", \"Budget\", \"Year\"]]\n",
    "\n",
    "bond.iloc[14, [5, 3, 2]]\n",
    "\n",
    "bond.ix[20, \"Budget\"]\n",
    "bond.ix[\"The Man with the Golden Gun\", :4]\n",
    "bond.ix[5, 3]"
   ]
  },
  {
   "cell_type": "markdown",
   "metadata": {},
   "source": [
    "## Set New Values for a Specific Cell or Row"
   ]
  },
  {
   "cell_type": "code",
   "execution_count": null,
   "metadata": {},
   "outputs": [],
   "source": [
    "bond = pd.read_csv(\"jamesbond.csv\", index_col = \"Film\")\n",
    "bond.sort_index(inplace = True)\n",
    "bond.head(3)"
   ]
  },
  {
   "cell_type": "code",
   "execution_count": null,
   "metadata": {},
   "outputs": [],
   "source": [
    "bond.ix[\"Dr. No\"]"
   ]
  },
  {
   "cell_type": "code",
   "execution_count": null,
   "metadata": {},
   "outputs": [],
   "source": [
    "bond.ix[\"Dr. No\", \"Actor\"] = \"Sir Sean Connery\""
   ]
  },
  {
   "cell_type": "code",
   "execution_count": null,
   "metadata": {},
   "outputs": [],
   "source": [
    "bond.ix[\"Dr. No\", [\"Box Office\", \"Budget\", \"Bond Actor Salary\"]] = [448800000, 7000000, 600000]"
   ]
  },
  {
   "cell_type": "code",
   "execution_count": null,
   "metadata": {},
   "outputs": [],
   "source": [
    "bond.ix[\"Dr. No\", \"Budget\"]"
   ]
  },
  {
   "cell_type": "markdown",
   "metadata": {},
   "source": [
    "## Set Multiple Values in `DataFrame`"
   ]
  },
  {
   "cell_type": "code",
   "execution_count": null,
   "metadata": {},
   "outputs": [],
   "source": [
    "bond = pd.read_csv(\"jamesbond.csv\", index_col = \"Film\")\n",
    "bond.sort_index(inplace = True)\n",
    "bond.head(3)"
   ]
  },
  {
   "cell_type": "code",
   "execution_count": null,
   "metadata": {},
   "outputs": [],
   "source": [
    "mask = bond[\"Actor\"] == \"Sean Connery\""
   ]
  },
  {
   "cell_type": "code",
   "execution_count": null,
   "metadata": {},
   "outputs": [],
   "source": [
    "bond.ix[mask, \"Actor\"] = \"Sir Sean Connery\""
   ]
  },
  {
   "cell_type": "code",
   "execution_count": null,
   "metadata": {},
   "outputs": [],
   "source": [
    "bond[bond[\"Actor\"] == \"Roger Moore\"]\n",
    "\n",
    "bond.ix[bond[\"Actor\"] == \"Roger Moore\"]"
   ]
  },
  {
   "cell_type": "markdown",
   "metadata": {},
   "source": [
    "## Rename Index Labels or Columns in a `DataFrame`"
   ]
  },
  {
   "cell_type": "code",
   "execution_count": null,
   "metadata": {},
   "outputs": [],
   "source": [
    "bond = pd.read_csv(\"jamesbond.csv\", index_col = \"Film\")\n",
    "bond.sort_index(inplace = True)\n",
    "bond.head(3)"
   ]
  },
  {
   "cell_type": "code",
   "execution_count": null,
   "metadata": {},
   "outputs": [],
   "source": [
    "bond.rename(columns = {\"Year\" : \"Release Date\", \"Box Office\" : \"Revenue\"}, inplace = True)"
   ]
  },
  {
   "cell_type": "code",
   "execution_count": null,
   "metadata": {},
   "outputs": [],
   "source": [
    "bond.head(1)"
   ]
  },
  {
   "cell_type": "code",
   "execution_count": null,
   "metadata": {},
   "outputs": [],
   "source": [
    "bond.rename(index = {\"Dr. No\" : \"Doctor No\", \n",
    "                     \"GoldenEye\" : \"Golden Eye\",\n",
    "                    \"The World Is Not Enough\" : \"Best Bond Movie Ever\"}, inplace = True)"
   ]
  },
  {
   "cell_type": "code",
   "execution_count": null,
   "metadata": {},
   "outputs": [],
   "source": [
    "bond.ix[\"Best Bond Movie Ever\"]"
   ]
  },
  {
   "cell_type": "code",
   "execution_count": null,
   "metadata": {},
   "outputs": [],
   "source": [
    "bond.head(1)"
   ]
  },
  {
   "cell_type": "code",
   "execution_count": null,
   "metadata": {},
   "outputs": [],
   "source": [
    "bond.columns = [\"Year of Release\", \"Actor\", \"Director\", \"Gross\", \"Cost\", \"Salary\"]"
   ]
  },
  {
   "cell_type": "code",
   "execution_count": null,
   "metadata": {},
   "outputs": [],
   "source": [
    "bond.head(3)"
   ]
  },
  {
   "cell_type": "markdown",
   "metadata": {},
   "source": [
    "## Delete Rows or Columns from a `DataFrame`"
   ]
  },
  {
   "cell_type": "code",
   "execution_count": null,
   "metadata": {},
   "outputs": [],
   "source": [
    "bond = pd.read_csv(\"jamesbond.csv\", index_col = \"Film\")\n",
    "bond.sort_index(inplace = True)\n",
    "bond.head(3)"
   ]
  },
  {
   "cell_type": "code",
   "execution_count": null,
   "metadata": {},
   "outputs": [],
   "source": [
    "# bond.drop(\"Casino Royale\", inplace = True)\n",
    "bond.drop(labels = [\"Box Office\", \"Bond Actor Salary\", \"Actor\"], axis = \"columns\", inplace = True)"
   ]
  },
  {
   "cell_type": "code",
   "execution_count": null,
   "metadata": {},
   "outputs": [],
   "source": [
    "actor = bond.pop(\"Actor\")"
   ]
  },
  {
   "cell_type": "code",
   "execution_count": null,
   "metadata": {},
   "outputs": [],
   "source": [
    "actor"
   ]
  },
  {
   "cell_type": "code",
   "execution_count": null,
   "metadata": {},
   "outputs": [],
   "source": [
    "del bond[\"Director\"]"
   ]
  },
  {
   "cell_type": "code",
   "execution_count": null,
   "metadata": {},
   "outputs": [],
   "source": [
    "del bond[\"Year\"]"
   ]
  },
  {
   "cell_type": "markdown",
   "metadata": {},
   "source": [
    "## Create Random Sample"
   ]
  },
  {
   "cell_type": "code",
   "execution_count": null,
   "metadata": {},
   "outputs": [],
   "source": [
    "bond = pd.read_csv(\"jamesbond.csv\", index_col = \"Film\")\n",
    "bond.sort_index(inplace = True)\n",
    "bond.head(3)"
   ]
  },
  {
   "cell_type": "code",
   "execution_count": null,
   "metadata": {},
   "outputs": [],
   "source": [
    "bond.sample(n = 3, axis = \"columns\")"
   ]
  },
  {
   "cell_type": "markdown",
   "metadata": {},
   "source": [
    "## The `.nsmallest()` and `.nlargest()` Methods"
   ]
  },
  {
   "cell_type": "code",
   "execution_count": null,
   "metadata": {},
   "outputs": [],
   "source": [
    "bond = pd.read_csv(\"jamesbond.csv\", index_col = \"Film\")\n",
    "bond.sort_index(inplace = True)\n",
    "bond.head(3)"
   ]
  },
  {
   "cell_type": "code",
   "execution_count": null,
   "metadata": {},
   "outputs": [],
   "source": [
    "bond.sort_values(\"Box Office\", ascending = False).head(3)"
   ]
  },
  {
   "cell_type": "code",
   "execution_count": null,
   "metadata": {},
   "outputs": [],
   "source": [
    "bond.nlargest(3, columns = \"Box Office\")\n",
    "\n",
    "bond.nsmallest(n = 2, columns = \"Box Office\")"
   ]
  },
  {
   "cell_type": "code",
   "execution_count": null,
   "metadata": {},
   "outputs": [],
   "source": [
    "bond.nlargest(3, columns = \"Budget\")\n",
    "\n",
    "bond.nsmallest(n = 6, columns = \"Bond Actor Salary\")"
   ]
  },
  {
   "cell_type": "code",
   "execution_count": null,
   "metadata": {},
   "outputs": [],
   "source": [
    "bond[\"Box Office\"].nlargest(8)\n",
    "\n",
    "bond[\"Year\"].nsmallest(2)"
   ]
  },
  {
   "cell_type": "markdown",
   "metadata": {},
   "source": [
    "## Filtering with the `where` Method"
   ]
  },
  {
   "cell_type": "code",
   "execution_count": null,
   "metadata": {},
   "outputs": [],
   "source": [
    "bond = pd.read_csv(\"jamesbond.csv\", index_col = \"Film\")\n",
    "bond.sort_index(inplace = True)\n",
    "bond.head(3)"
   ]
  },
  {
   "cell_type": "code",
   "execution_count": null,
   "metadata": {},
   "outputs": [],
   "source": [
    "mask = bond[\"Actor\"] == \"Sean Connery\"\n",
    "bond[mask]"
   ]
  },
  {
   "cell_type": "code",
   "execution_count": null,
   "metadata": {},
   "outputs": [],
   "source": [
    "bond.where(mask)"
   ]
  },
  {
   "cell_type": "code",
   "execution_count": null,
   "metadata": {
    "scrolled": true
   },
   "outputs": [],
   "source": [
    "bond.where(bond[\"Box Office\"] > 800)"
   ]
  },
  {
   "cell_type": "code",
   "execution_count": null,
   "metadata": {},
   "outputs": [],
   "source": [
    "mask2 = bond[\"Box Office\"] > 800"
   ]
  },
  {
   "cell_type": "code",
   "execution_count": null,
   "metadata": {},
   "outputs": [],
   "source": [
    "bond.where(mask & mask2)"
   ]
  },
  {
   "cell_type": "markdown",
   "metadata": {
    "collapsed": true
   },
   "source": [
    "## The `.query()` Method"
   ]
  },
  {
   "cell_type": "code",
   "execution_count": null,
   "metadata": {},
   "outputs": [],
   "source": [
    "bond = pd.read_csv(\"jamesbond.csv\", index_col = \"Film\")\n",
    "bond.sort_index(inplace = True)\n",
    "bond.head(3)"
   ]
  },
  {
   "cell_type": "code",
   "execution_count": null,
   "metadata": {},
   "outputs": [],
   "source": [
    "bond.columns = [column_name.replace(\" \", \"_\") for column_name in bond.columns]\n",
    "bond.head(1)"
   ]
  },
  {
   "cell_type": "code",
   "execution_count": null,
   "metadata": {},
   "outputs": [],
   "source": [
    "bond.query('Actor == \"Sean Connery\"')\n",
    "bond.query(\"Director == 'Terence Young'\")\n",
    "bond.query(\"Actor != 'Roger Moore'\")"
   ]
  },
  {
   "cell_type": "code",
   "execution_count": null,
   "metadata": {},
   "outputs": [],
   "source": [
    "bond.query(\"Box_Office > 600\")"
   ]
  },
  {
   "cell_type": "code",
   "execution_count": null,
   "metadata": {},
   "outputs": [],
   "source": [
    "bond.query(\"Actor == 'Roger Moore' or Director == 'John Glen'\")"
   ]
  },
  {
   "cell_type": "code",
   "execution_count": null,
   "metadata": {},
   "outputs": [],
   "source": [
    "bond.query(\"Actor in ['Timothy Dalton', 'George Lazenby']\")\n",
    "\n",
    "bond.query(\"Actor not in ['Sean Connery', 'Roger Moore']\")"
   ]
  },
  {
   "cell_type": "markdown",
   "metadata": {
    "collapsed": true
   },
   "source": [
    "## A Review of the `.apply()` Method on Single Columns"
   ]
  },
  {
   "cell_type": "code",
   "execution_count": null,
   "metadata": {},
   "outputs": [],
   "source": [
    "bond = pd.read_csv(\"jamesbond.csv\", index_col = \"Film\")\n",
    "bond.sort_index(inplace = True)\n",
    "bond.head(3)"
   ]
  },
  {
   "cell_type": "code",
   "execution_count": null,
   "metadata": {},
   "outputs": [],
   "source": [
    "def convert_to_string_and_add_millions(number):\n",
    "    return str(number) + \" MILLIONS!\""
   ]
  },
  {
   "cell_type": "code",
   "execution_count": null,
   "metadata": {},
   "outputs": [],
   "source": [
    "columns = [\"Box Office\", \"Budget\", \"Bond Actor Salary\"]\n",
    "for col in columns:\n",
    "    bond[col] = bond[col].apply(convert_to_string_and_add_millions)"
   ]
  },
  {
   "cell_type": "code",
   "execution_count": null,
   "metadata": {},
   "outputs": [],
   "source": [
    "bond.head(3)"
   ]
  },
  {
   "cell_type": "markdown",
   "metadata": {},
   "source": [
    "## The `.apply()` Method with Row Values"
   ]
  },
  {
   "cell_type": "code",
   "execution_count": null,
   "metadata": {},
   "outputs": [],
   "source": [
    "bond = pd.read_csv(\"jamesbond.csv\", index_col = \"Film\")\n",
    "bond.sort_index(inplace = True)\n",
    "bond.head(3)"
   ]
  },
  {
   "cell_type": "code",
   "execution_count": null,
   "metadata": {},
   "outputs": [],
   "source": [
    "def good_movie(row):\n",
    "    \n",
    "    actor = row[1]\n",
    "    budget = row[4]\n",
    "    \n",
    "    if actor == \"Pierce Brosnan\":\n",
    "        return \"The best\"\n",
    "    elif actor == \"Roger Moore\" and budget > 40:\n",
    "        return \"Enjoyable\"\n",
    "    else:\n",
    "        return \"I have no clue\"\n",
    "    \n",
    "bond.apply(good_movie, axis = \"columns\")"
   ]
  },
  {
   "cell_type": "markdown",
   "metadata": {},
   "source": [
    "## The `.copy()` Method"
   ]
  },
  {
   "cell_type": "code",
   "execution_count": null,
   "metadata": {},
   "outputs": [],
   "source": [
    "bond = pd.read_csv(\"jamesbond.csv\", index_col = \"Film\")\n",
    "bond.sort_index(inplace = True)\n",
    "bond.head(3)"
   ]
  },
  {
   "cell_type": "code",
   "execution_count": null,
   "metadata": {},
   "outputs": [],
   "source": [
    "directors = bond[\"Director\"]\n",
    "directors.head(3)"
   ]
  },
  {
   "cell_type": "code",
   "execution_count": null,
   "metadata": {},
   "outputs": [],
   "source": [
    "directors[\"A View to a Kill\"] = \"Mister John Glen\""
   ]
  },
  {
   "cell_type": "code",
   "execution_count": null,
   "metadata": {},
   "outputs": [],
   "source": [
    "directors.head(3)"
   ]
  },
  {
   "cell_type": "code",
   "execution_count": null,
   "metadata": {},
   "outputs": [],
   "source": [
    "bond.head(3)"
   ]
  },
  {
   "cell_type": "code",
   "execution_count": null,
   "metadata": {},
   "outputs": [],
   "source": [
    "directors = bond[\"Director\"].copy()\n",
    "directors.head(3)"
   ]
  },
  {
   "cell_type": "code",
   "execution_count": null,
   "metadata": {},
   "outputs": [],
   "source": [
    "directors[\"A View to a Kill\"] = \"Mister John Glen\""
   ]
  },
  {
   "cell_type": "code",
   "execution_count": null,
   "metadata": {},
   "outputs": [],
   "source": [
    "directors.head(3)"
   ]
  },
  {
   "cell_type": "code",
   "execution_count": null,
   "metadata": {},
   "outputs": [],
   "source": [
    "bond.head(3)"
   ]
  }
 ],
 "metadata": {
  "anaconda-cloud": {},
  "kernelspec": {
   "display_name": "Python 3",
   "language": "python",
   "name": "python3"
  },
  "language_info": {
   "codemirror_mode": {
    "name": "ipython",
    "version": 3
   },
   "file_extension": ".py",
   "mimetype": "text/x-python",
   "name": "python",
   "nbconvert_exporter": "python",
   "pygments_lexer": "ipython3",
   "version": "3.8.3"
  }
 },
 "nbformat": 4,
 "nbformat_minor": 1
}
